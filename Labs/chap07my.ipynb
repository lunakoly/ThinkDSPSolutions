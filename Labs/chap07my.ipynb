{
 "cells": [
  {
   "cell_type": "markdown",
   "metadata": {},
   "source": [
    "# Exercise 2"
   ]
  },
  {
   "cell_type": "code",
   "execution_count": 1,
   "metadata": {
    "scrolled": false
   },
   "outputs": [],
   "source": [
    "from thinkdsp import Signal, Sinusoid, SquareSignal, TriangleSignal, SawtoothSignal, ParabolicSignal\n",
    "from thinkdsp import normalize, unbias, PI2, decorate\n",
    "from thinkdsp import Chirp\n",
    "from thinkdsp import read_wave\n",
    "from thinkdsp import Spectrum, Wave, UncorrelatedGaussianNoise, Spectrogram\n",
    "from thinkdsp import Noise\n",
    "\n",
    "import numpy as np\n",
    "import pandas as pd\n",
    "\n",
    "from matplotlib import pyplot\n",
    "\n",
    "import thinkstats2\n",
    "\n",
    "from scipy.stats import linregress\n",
    "\n",
    "import scipy\n",
    "import scipy.fftpack\n",
    "\n",
    "loglog = dict(xscale='log', yscale='log')\n",
    "\n",
    "PI2 = np.pi * 2"
   ]
  },
  {
   "cell_type": "code",
   "execution_count": 5,
   "metadata": {},
   "outputs": [
    {
     "data": {
      "text/plain": [
       "array([ 0.2+0.j , -1.2-0.2j,  0.2+0.j , -1.2+0.2j])"
      ]
     },
     "execution_count": 5,
     "metadata": {},
     "output_type": "execute_result"
    }
   ],
   "source": [
    "y = [-0.5, 0.1, 0.7, -0.1]\n",
    "np.fft.fft(y)"
   ]
  },
  {
   "cell_type": "code",
   "execution_count": 6,
   "metadata": {},
   "outputs": [
    {
     "data": {
      "text/plain": [
       "array([ 0.2+0.00000000e+00j, -1.2-2.00000000e-01j,  0.2+1.95943488e-16j,\n",
       "       -1.2+2.00000000e-01j])"
      ]
     },
     "execution_count": 6,
     "metadata": {},
     "output_type": "execute_result"
    }
   ],
   "source": [
    "def dft(ys):\n",
    "    N = len(ys)\n",
    "    ts = np.arange(N) / N\n",
    "    freqs = np.arange(N)\n",
    "    args = np.outer(ts, freqs)\n",
    "    M = np.exp(1j * PI2 * args)\n",
    "    amps = M.conj().transpose().dot(ys)\n",
    "    return amps\n",
    "\n",
    "dft(y)"
   ]
  },
  {
   "cell_type": "code",
   "execution_count": 11,
   "metadata": {},
   "outputs": [
    {
     "data": {
      "text/plain": [
       "array([ 0.2+0.j , -1.2-0.2j,  0.2+0.j , -1.2+0.2j])"
      ]
     },
     "execution_count": 11,
     "metadata": {},
     "output_type": "execute_result"
    }
   ],
   "source": [
    "def fft(y):\n",
    "    N = len(y)\n",
    "    half = N // 2\n",
    "    \n",
    "    if half == 0:\n",
    "        return y\n",
    "    \n",
    "    e = np.zeros((half))\n",
    "    o = np.zeros((half))\n",
    "    \n",
    "    for it in range(half):\n",
    "        e[it] = y[it * 2]\n",
    "        o[it] = y[it * 2 + 1]\n",
    "        \n",
    "    # len() may be less than half\n",
    "    # (if half is odd)\n",
    "    dft_e = fft(e)\n",
    "    dft_o = fft(o)\n",
    "    M = len(dft_e)\n",
    "    \n",
    "    dft_e_tiled = np.tile(dft_e, 2)\n",
    "    dft_o_tiled = np.tile(dft_o, 2)\n",
    "    \n",
    "    dft = np.zeros((M * 2), dtype=np.complex)\n",
    "    \n",
    "    for it in range(M * 2):\n",
    "        dft[it] = dft_e_tiled[it] + np.exp(-PI2 * 1j * it / (M*2)) * dft_o_tiled[it]\n",
    "        \n",
    "    return dft\n",
    "\n",
    "fft(y)"
   ]
  }
 ],
 "metadata": {
  "kernelspec": {
   "display_name": "Python 3.8.1 64-bit",
   "language": "python",
   "name": "python38164bit52c9f2f1a2854b9097a78ba13e78dba0"
  },
  "language_info": {
   "codemirror_mode": {
    "name": "ipython",
    "version": 3
   },
   "file_extension": ".py",
   "mimetype": "text/x-python",
   "name": "python",
   "nbconvert_exporter": "python",
   "pygments_lexer": "ipython3",
   "version": "3.8.1"
  }
 },
 "nbformat": 4,
 "nbformat_minor": 4
}
